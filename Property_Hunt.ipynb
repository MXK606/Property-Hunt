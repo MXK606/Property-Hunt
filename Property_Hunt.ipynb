{
 "cells": [
  {
   "cell_type": "code",
   "execution_count": 17,
   "id": "b155a709-9afa-47fc-bbde-696bc6ac8cd9",
   "metadata": {},
   "outputs": [],
   "source": [
    "import numpy as np\n",
    "import pandas as pd\n",
    "import requests\n",
    "from bs4 import BeautifulSoup\n",
    "import re\n",
    "from http.client import responses\n",
    "from bs4.element import Comment\n",
    "import urllib.request\n",
    "import json"
   ]
  },
  {
   "cell_type": "code",
   "execution_count": 18,
   "id": "fb6a6e8e-0729-43f9-9a4f-cb94822dbc0e",
   "metadata": {},
   "outputs": [],
   "source": [
    "# # ## urls list for testing\n",
    "\n",
    "# 1. https://www.bayut.com/buildings/binghatti-apartments/\n",
    "# 2. https://www.bayut.com/buildings/palladium-tower/?gclid=EAIaIQobChMIobnRhfyVggMVpp-DBx1Now2SEAAYASAAEgLHcfD_BwE\n",
    "# 3. https://www.bayut.com/buildings/arno-a/?gad_source=1&gbraid=0AAAAADtWrTc4lLYWsy1OB9wwfzD8_CJF1&gclid=Cj0KCQjwqP2pBhDMARIsAJQ0Czo72QgLRCVBUneSwivWJEI07ZpmJKf_kmRBjNUbDO04p1mG_ED2vuUaAryuEALw_wcB"
   ]
  },
  {
   "cell_type": "code",
   "execution_count": 19,
   "id": "f5f25254-e730-42c4-8c8d-e626b42fad11",
   "metadata": {},
   "outputs": [],
   "source": [
    "## Defining a function that extracts useful information from the Bayut website;\n",
    "\n",
    "def Property_Info_Extraction(url, save_results=False):\n",
    "    \n",
    "    response = requests.get(url)\n",
    "\n",
    "    if response.status_code == 200:\n",
    "        html_content = response.content\n",
    "    else:\n",
    "        print(responses[response.status_code])\n",
    "        pass \n",
    "    \n",
    "    # Parse the HTML content with BeautifulSoup\n",
    "    soup = BeautifulSoup(html_content, 'html.parser')\n",
    "    \n",
    "    # Extract the necessary information from the wesbite\n",
    "    basic_info = []\n",
    "\n",
    "    about = soup.find('div', id=lambda value: value and value.startswith('about-')).text\n",
    "    \n",
    "    basic_info.append('Name: ' + about.replace('About ', ''))\n",
    "    \n",
    "    # Find the <div> with id \"in-a-nutshell\"\n",
    "    nutshell_div = soup.find('div', id=lambda value: value and value.startswith('in-a-')).findNext('ul').find_all('li')\n",
    "    \n",
    "    # Iterate through the <li> elements and print their text\n",
    "    for li in nutshell_div:\n",
    "        basic_info.append(li.text.replace(u'\\xa0', u' '))\n",
    "        \n",
    "        rest_all = []\n",
    "    \n",
    "    # Find the <div> with id begining with \"restaurants-\"\n",
    "    rest_div = soup.find('div', id=lambda value: value and value.startswith('rest')).findNext('ul').find_all('li')\n",
    "    \n",
    "    # Iterate through the <li> elements and print their text\n",
    "    for li in rest_div:\n",
    "        rest_all.append(li.text.replace(u'\\xa0', u' '))\n",
    "    \n",
    "    basic_info.append('Restaurants Nearby: ' + \", \".join(rest_all))\n",
    "    \n",
    "    sup_all = []\n",
    "    \n",
    "    # Find the <div> with id begining with \"supermarket\"\n",
    "    sup_div = soup.find('div', id=lambda value: value and value.startswith('supermarket')).findNext('ul').find_all('li')\n",
    "    \n",
    "    # Iterate through the <li> elements and print their text\n",
    "    for li in sup_div:\n",
    "        sup_all.append(li.text.replace(u'\\xa0', u' '))\n",
    "        \n",
    "    basic_info.append('Supermarkets Nearby: ' + \", \".join(sup_all))\n",
    "    \n",
    "    schools_all = []\n",
    "    \n",
    "    # Find the <div> with id begining with \"supermarket\"\n",
    "    schools_div = soup.find('div', id=lambda value: value and value.startswith('school')).findNext('ul').find_all('li')\n",
    "    \n",
    "    # Iterate through the <li> elements and print their text\n",
    "    for li in schools_div:\n",
    "        schools_all.append(li.text.replace(u'\\xa0', u' '))\n",
    "        \n",
    "    basic_info.append('Schools Nearby: ' + \", \".join(schools_all))\n",
    "    \n",
    "    if save_results:\n",
    "        \n",
    "        # Split the text into lines and create a dictionary\n",
    "        data = {}\n",
    "        for line in basic_info:\n",
    "            key, value = line.split(': ')\n",
    "            data[key] = value\n",
    "        \n",
    "        # Convert the dictionary to a Pandas DataFrame\n",
    "        df = pd.DataFrame([data])\n",
    "        \n",
    "        #Transpose the df\n",
    "        df_T = df.T\n",
    "        \n",
    "        # Save the DataFrame as a CSV file\n",
    "        df_T.to_csv('{}_data.csv'.format(data['Name']), header=False)\n",
    "        \n",
    "    else:\n",
    "        return basic_info\n",
    "    "
   ]
  },
  {
   "cell_type": "code",
   "execution_count": 20,
   "id": "aff2ec0a-2a4c-4796-958f-2115ee12458f",
   "metadata": {},
   "outputs": [],
   "source": [
    "## Just enter the url and run the code!\n",
    "## If you come across any error, please not it so we can debug it together later on!\n",
    "\n",
    "Property_Info_Extraction(\"https://www.bayut.com/buildings/binghatti-apartments/\", save_results=True)"
   ]
  },
  {
   "cell_type": "markdown",
   "id": "c06dd645-3f7a-4fc9-af44-3bdc93ccc31f",
   "metadata": {},
   "source": [
    "## NOTES:\n",
    "- The reason why I was getting the error `AttributeError: 'NoneType' object has no attribute 'findNext'` is because the id tag on the webapges html had a spelling error; they spelled the id='restaurants-nearby' wrong! Fixed this issue by updated by 'findNext' arguments as 'rest'\n",
    "- Found an APIFY app to scrape some useful data from PropertyFinder [here](https://apify.com/dhrumil/propertyfinder-scraper)\n",
    "- [BrowseAI](https://www.browse.ai/?utm_source=branded&gad_source=1&gclid=Cj0KCQjwtJKqBhCaARIsAN_yS_kKOmro5osDM5y19e-_n0Zo61_DtSq5MruLo6ZP0TByV_nuhcF-TvEaAsAjEALw_wcB) could be used to scrape data from PropertyFinder but the way the data is presented on the website is very User Friendly and not that easy to scrape using this bot. \n",
    "- Tried scarpping agent data from PropertyFinder but got the response code 403 meaning the website has forbidden access to this data. Bayut site gave 200 status code!"
   ]
  },
  {
   "cell_type": "markdown",
   "id": "9d9af879-38f7-4e4b-9e7b-417f8c8c89d2",
   "metadata": {},
   "source": [
    "## Steps to scrape agent data from Bayut\n",
    "\n",
    "1. Get the agent urls - This can be done by using beautifulsoup to extract all urls one the given webpage. Problem right now is that one webpage shows a maximum of 12 agents out of the total 8025 so I need to find a way to get ALL agents urls at once. Another problem is that it does not output its url but its html jump tag instead. The complete url will have to then be created using the parent url.\n",
    "2. Extract useful information from each agents url - I am trying this right now but I need to locate the information I want with some tag and I'm working on it. "
   ]
  },
  {
   "cell_type": "code",
   "execution_count": 21,
   "id": "fba6436a-4238-4471-b86c-87a0c4bd6fc3",
   "metadata": {},
   "outputs": [
    {
     "data": {
      "text/plain": [
       "200"
      ]
     },
     "execution_count": 21,
     "metadata": {},
     "output_type": "execute_result"
    }
   ],
   "source": [
    "agent_response = requests.get(\"https://www.bayut.com/brokers/dubai/\")\n",
    "agent_response.status_code"
   ]
  },
  {
   "cell_type": "code",
   "execution_count": 22,
   "id": "9926064e-308e-44cb-9625-d6549c5cee4c",
   "metadata": {},
   "outputs": [],
   "source": [
    "agent_soup = BeautifulSoup(agent_response.content, \"html.parser\")"
   ]
  },
  {
   "cell_type": "code",
   "execution_count": 27,
   "id": "d2d2299d-9645-42f0-8ca7-65ca2d2c9659",
   "metadata": {},
   "outputs": [
    {
     "data": {
      "text/plain": [
       "200"
      ]
     },
     "execution_count": 27,
     "metadata": {},
     "output_type": "execute_result"
    }
   ],
   "source": [
    "aafaq_agent = requests.get(\"https://www.bayut.com/brokers/aafaq-2188426.html\")\n",
    "aafaq_agent.status_code"
   ]
  },
  {
   "cell_type": "code",
   "execution_count": 28,
   "id": "c24b34f2-ea80-4062-ae2c-7eb652e01d3e",
   "metadata": {},
   "outputs": [],
   "source": [
    "aafaq_agent_soup = BeautifulSoup(ali_agent.content, \"html.parser\")"
   ]
  },
  {
   "cell_type": "code",
   "execution_count": 29,
   "id": "b2a0282a-433c-49af-8577-b99348645e92",
   "metadata": {},
   "outputs": [
    {
     "name": "stdout",
     "output_type": "stream",
     "text": [
      "en Site settings Change Currency Change Area Unit Favourite properties View all Saved searches Log in Find my Agent Floor Plans Guides  Area Guides Building Guides School Guides Market Intelligence  TruValue™ Property Prices Dubai Transactions Trends New Projects Agent Portal Events  B3DXB 2022 Your Home Your Choice Aafaq Oxygen Property Management No reviews yet Active listings Share profile  Email Agent  Call Agent Aafaq · Oxygen Property Management Share profile  Email Agent  Call Agent purpose All location property type Any Type beds & baths Beds & Baths Price (AED) Price (AED) More Filters Showing 1 - 12 of 44 Properties sorted by Popular AED 110,000 Yearly Apartment 3 4 Area : 2,410 sqft Huge 3 BD / Duplex /City View/Khalifa Street Sheikh Khalifa Bin Zayed Street, Abu Dhabi  Call   Email  AED 82,500 Yearly Apartment 3 3 Area : 1,825 sqft Huge 3bhk /Maids room /Wardrobes /All Facilities Al Salam Street, Abu Dhabi  Call   Email  AED 41,999 Yearly Apartment Studio 1 Area : 645 sqft Great Amenities  Studio | Amazing View Sama Tower, Electra Street, Abu Dhabi  Call   Email  AED 92,000 Yearly Apartment 2 3 Area : 1,510 sqft 2 Bedroom | Good View | All Facilities | Best Location Corniche Road, Abu Dhabi  Call   Email     AED 75,000 Yearly Apartment 1 1 Area : 910 sqft FULLY FURNISHED 1BR W/ SPACIOUS | GREAT VIEW Zakher MAAM Residence, Al Najda Street, Abu Dhabi  Call   Email     AED 70,000 Yearly Apartment 1 2 Area : 1,035 sqft Partial Sea View | Prime Location | Move In Ready Corniche Road, Abu Dhabi  Call   Email     AED 105,000 Yearly Apartment 3 4 Area : 1,810 sqft Momentous 3BHK+Maid | Laundry | Prime Location Corniche Road, Abu Dhabi  Call   Email     AED 50,000 Yearly Apartment 1 2 Area : 910 sqft Amazing | 1bhk | Wardrobes |Grand Classic Airport Street, Abu Dhabi  Call   Email     AED 72,000 Yearly Apartment 3 3 Area : 1,410 sqft 2 Months free/ Spacious 3BHK/City View World Trade Centre, Al Markaziya, Abu Dhabi  Call   Email     AED 80,000 Yearly Apartment 2 3 Area : 1,225 sqft 2BHK /Family Oriented /Furnished / Balcony Sheikh Khalifa Bin Zayed Street, Abu Dhabi  Call   Email     AED 99,999 Yearly Apartment 3 4 Area : 1,820 sqft Spacious 3 Br+Maid with Balcony & Parking Sheikh Khalifa Bin Zayed Street, Abu Dhabi  Call   Email     AED 69,000 Yearly Apartment 3 4 Area : 2,555 sqft Stunning 3BR+M| Flexible Payments| Book Now⚡ Al Wathba Tower, Al Markaziya, Abu Dhabi  Call   Email  1 2 3 4 1 to 12 of 44 Properties Bayut Find my Agent Abu Dhabi Oxygen Property Management Aafaq  About  Language(s): Hindi, Urdu, English Specialities: Residential Leasing Service Areas: Abu Dhabi Properties: For Rent (44) Description: Aafaq Ahmed has been working in the Real Estate industry since 3 years of leasing and sales property experien... Read all Experience: 4 years ABOUT US | CAREERS | CONTACT US | TERMS & PRIVACY POLICY Country: United Arab Emirates © 2008 - 2023 Bayut.com TOP\n"
     ]
    }
   ],
   "source": [
    "def tag_visible(element):\n",
    "    if element.parent.name in ['style', 'script', 'head', 'title', 'meta', '[document]']:\n",
    "        return False\n",
    "    if isinstance(element, Comment):\n",
    "        return False\n",
    "    return True\n",
    "\n",
    "\n",
    "def text_from_html(body):\n",
    "    soup = BeautifulSoup(body, 'html.parser')\n",
    "    texts = soup.findAll(text=True)\n",
    "    visible_texts = filter(tag_visible, texts)  \n",
    "    return u\" \".join(t.strip() for t in visible_texts)\n",
    "\n",
    "html = urllib.request.urlopen('https://www.bayut.com/brokers/aafaq-2188426.html').read()\n",
    "print(text_from_html(html))"
   ]
  },
  {
   "cell_type": "code",
   "execution_count": 30,
   "id": "7b4aa285-3e7b-4b66-9441-730a5376b1f7",
   "metadata": {},
   "outputs": [
    {
     "data": {
      "text/plain": [
       "['{\"@context\":\"https://schema.org\",\"@type\":\"RealEstateAgent\",\"name\":\"Aafaq\",\"image\":\"https://bayut-production.s3.eu-central-1.amazonaws.com/image/505844090/3eb4a49987c04118bd4353850a5c2f73\",\"url\":\"https://www.bayut.com/brokers/aafaq-2188426.html\",\"address\":{\"@type\":\"PostalAddress\",\"addressRegion\":\"Abu Dhabi\"},\"parentOrganization\":{\"@type\":\"Organization\",\"name\":\"Oxygen Property Management\",\"url\":\"https://www.bayut.com/companies/oxygen-property-management-102662/\",\"address\":{\"@type\":\"PostalAddress\",\"addressRegion\":\"Abu Dhabi\"}},\"priceRange\":\"41999 AED - 110000 AED\",\"makesOffer\":[{\"@type\":\"Offer\",\"itemOffered\":{\"@type\":[\"Apartment\",\"Product\"],\"name\":\"Huge 3 BD / Duplex /City View/Khalifa Street\",\"image\":\"https://images.bayut.com/thumbnails/512139006-400x300.jpeg\",\"url\":\"https://www.bayut.com/property/details-8111008.html\",\"address\":{\"@type\":\"PostalAddress\",\"name\":\"Sheikh Khalifa Bin Zayed Street Abu Dhabi\"},\"floorSize\":{\"@type\":\"QuantitativeValue\",\"value\":\"2,410\",\"unitText\":\"SQFT\"},\"offers\":[{\"@type\":\"Offer\",\"priceCurrency\":\"AED\",\"url\":\"https://www.bayut.com/property/details-8111008.html\",\"businessFunction\":\"http://purl.org/goodrelations/v1#LeaseOut\",\"priceSpecification\":{\"@type\":\"UnitPriceSpecification\",\"price\":110000,\"priceCurrency\":\"AED\",\"unitText\":\"yearly\"}}]}},{\"@type\":\"Offer\",\"itemOffered\":{\"@type\":[\"Apartment\",\"Product\"],\"name\":\"Huge 3bhk /Maids room /Wardrobes /All Facilities\",\"image\":\"https://images.bayut.com/thumbnails/509965587-400x300.jpeg\",\"url\":\"https://www.bayut.com/property/details-8100746.html\",\"address\":{\"@type\":\"PostalAddress\",\"name\":\"Al Salam Street Abu Dhabi\"},\"floorSize\":{\"@type\":\"QuantitativeValue\",\"value\":\"1,825\",\"unitText\":\"SQFT\"},\"offers\":[{\"@type\":\"Offer\",\"priceCurrency\":\"AED\",\"url\":\"https://www.bayut.com/property/details-8100746.html\",\"businessFunction\":\"http://purl.org/goodrelations/v1#LeaseOut\",\"priceSpecification\":{\"@type\":\"UnitPriceSpecification\",\"price\":82500,\"priceCurrency\":\"AED\",\"unitText\":\"yearly\"}}]}},{\"@type\":\"Offer\",\"itemOffered\":{\"@type\":[\"Apartment\",\"Product\"],\"name\":\"Great Amenities  Studio | Amazing View\",\"image\":\"https://images.bayut.com/thumbnails/512105240-400x300.jpeg\",\"url\":\"https://www.bayut.com/property/details-8110803.html\",\"address\":{\"@type\":\"PostalAddress\",\"name\":\"Sama Tower Electra Street Abu Dhabi\"},\"floorSize\":{\"@type\":\"QuantitativeValue\",\"value\":\"645\",\"unitText\":\"SQFT\"},\"offers\":[{\"@type\":\"Offer\",\"priceCurrency\":\"AED\",\"url\":\"https://www.bayut.com/property/details-8110803.html\",\"businessFunction\":\"http://purl.org/goodrelations/v1#LeaseOut\",\"priceSpecification\":{\"@type\":\"UnitPriceSpecification\",\"price\":41999,\"priceCurrency\":\"AED\",\"unitText\":\"yearly\"}}]}},{\"@type\":\"Offer\",\"itemOffered\":{\"@type\":[\"Apartment\",\"Product\"],\"name\":\"2 Bedroom | Good View | All Facilities | Best Location\",\"image\":\"https://images.bayut.com/thumbnails/511074969-400x300.jpeg\",\"url\":\"https://www.bayut.com/property/details-8106443.html\",\"address\":{\"@type\":\"PostalAddress\",\"name\":\"Corniche Road Abu Dhabi\"},\"floorSize\":{\"@type\":\"QuantitativeValue\",\"value\":\"1,510\",\"unitText\":\"SQFT\"},\"offers\":[{\"@type\":\"Offer\",\"priceCurrency\":\"AED\",\"url\":\"https://www.bayut.com/property/details-8106443.html\",\"businessFunction\":\"http://purl.org/goodrelations/v1#LeaseOut\",\"priceSpecification\":{\"@type\":\"UnitPriceSpecification\",\"price\":92000,\"priceCurrency\":\"AED\",\"unitText\":\"yearly\"}}]}},{\"@type\":\"Offer\",\"itemOffered\":{\"@type\":[\"Apartment\",\"Product\"],\"name\":\"FULLY FURNISHED 1BR W/ SPACIOUS | GREAT VIEW\",\"image\":\"https://images.bayut.com/thumbnails/507295945-400x300.jpeg\",\"url\":\"https://www.bayut.com/property/details-8087401.html\",\"address\":{\"@type\":\"PostalAddress\",\"name\":\"Zakher MAAM Residence Al Najda Street Abu Dhabi\"},\"floorSize\":{\"@type\":\"QuantitativeValue\",\"value\":\"910\",\"unitText\":\"SQFT\"},\"offers\":[{\"@type\":\"Offer\",\"priceCurrency\":\"AED\",\"url\":\"https://www.bayut.com/property/details-8087401.html\",\"businessFunction\":\"http://purl.org/goodrelations/v1#LeaseOut\",\"priceSpecification\":{\"@type\":\"UnitPriceSpecification\",\"price\":75000,\"priceCurrency\":\"AED\",\"unitText\":\"yearly\"}}]}},{\"@type\":\"Offer\",\"itemOffered\":{\"@type\":[\"Apartment\",\"Product\"],\"name\":\"Partial Sea View | Prime Location | Move In Ready\",\"image\":\"https://images.bayut.com/thumbnails/511235759-400x300.jpeg\",\"url\":\"https://www.bayut.com/property/details-8107258.html\",\"address\":{\"@type\":\"PostalAddress\",\"name\":\"Corniche Road Abu Dhabi\"},\"floorSize\":{\"@type\":\"QuantitativeValue\",\"value\":\"1,035\",\"unitText\":\"SQFT\"},\"offers\":[{\"@type\":\"Offer\",\"priceCurrency\":\"AED\",\"url\":\"https://www.bayut.com/property/details-8107258.html\",\"businessFunction\":\"http://purl.org/goodrelations/v1#LeaseOut\",\"priceSpecification\":{\"@type\":\"UnitPriceSpecification\",\"price\":70000,\"priceCurrency\":\"AED\",\"unitText\":\"yearly\"}}]}},{\"@type\":\"Offer\",\"itemOffered\":{\"@type\":[\"Apartment\",\"Product\"],\"name\":\"Momentous 3BHK+Maid | Laundry | Prime Location\",\"image\":\"https://images.bayut.com/thumbnails/511981044-400x300.jpeg\",\"url\":\"https://www.bayut.com/property/details-8110048.html\",\"address\":{\"@type\":\"PostalAddress\",\"name\":\"Corniche Road Abu Dhabi\"},\"floorSize\":{\"@type\":\"QuantitativeValue\",\"value\":\"1,810\",\"unitText\":\"SQFT\"},\"offers\":[{\"@type\":\"Offer\",\"priceCurrency\":\"AED\",\"url\":\"https://www.bayut.com/property/details-8110048.html\",\"businessFunction\":\"http://purl.org/goodrelations/v1#LeaseOut\",\"priceSpecification\":{\"@type\":\"UnitPriceSpecification\",\"price\":105000,\"priceCurrency\":\"AED\",\"unitText\":\"yearly\"}}]}},{\"@type\":\"Offer\",\"itemOffered\":{\"@type\":[\"Apartment\",\"Product\"],\"name\":\"Amazing | 1bhk | Wardrobes |Grand Classic\",\"image\":\"https://images.bayut.com/thumbnails/511990201-400x300.jpeg\",\"url\":\"https://www.bayut.com/property/details-8110103.html\",\"address\":{\"@type\":\"PostalAddress\",\"name\":\"Airport Street Abu Dhabi\"},\"floorSize\":{\"@type\":\"QuantitativeValue\",\"value\":\"910\",\"unitText\":\"SQFT\"},\"offers\":[{\"@type\":\"Offer\",\"priceCurrency\":\"AED\",\"url\":\"https://www.bayut.com/property/details-8110103.html\",\"businessFunction\":\"http://purl.org/goodrelations/v1#LeaseOut\",\"priceSpecification\":{\"@type\":\"UnitPriceSpecification\",\"price\":50000,\"priceCurrency\":\"AED\",\"unitText\":\"yearly\"}}]}},{\"@type\":\"Offer\",\"itemOffered\":{\"@type\":[\"Apartment\",\"Product\"],\"name\":\"2 Months free/ Spacious 3BHK/City View\",\"image\":\"https://images.bayut.com/thumbnails/511410644-400x300.jpeg\",\"url\":\"https://www.bayut.com/property/details-8108065.html\",\"address\":{\"@type\":\"PostalAddress\",\"name\":\"World Trade Centre Al Markaziya Abu Dhabi\"},\"floorSize\":{\"@type\":\"QuantitativeValue\",\"value\":\"1,410\",\"unitText\":\"SQFT\"},\"offers\":[{\"@type\":\"Offer\",\"priceCurrency\":\"AED\",\"url\":\"https://www.bayut.com/property/details-8108065.html\",\"businessFunction\":\"http://purl.org/goodrelations/v1#LeaseOut\",\"priceSpecification\":{\"@type\":\"UnitPriceSpecification\",\"price\":72000,\"priceCurrency\":\"AED\",\"unitText\":\"yearly\"}}]}},{\"@type\":\"Offer\",\"itemOffered\":{\"@type\":[\"Apartment\",\"Product\"],\"name\":\"2BHK /Family Oriented /Furnished / Balcony\",\"image\":\"https://images.bayut.com/thumbnails/512035367-400x300.jpeg\",\"url\":\"https://www.bayut.com/property/details-8110386.html\",\"address\":{\"@type\":\"PostalAddress\",\"name\":\"Sheikh Khalifa Bin Zayed Street Abu Dhabi\"},\"floorSize\":{\"@type\":\"QuantitativeValue\",\"value\":\"1,225\",\"unitText\":\"SQFT\"},\"offers\":[{\"@type\":\"Offer\",\"priceCurrency\":\"AED\",\"url\":\"https://www.bayut.com/property/details-8110386.html\",\"businessFunction\":\"http://purl.org/goodrelations/v1#LeaseOut\",\"priceSpecification\":{\"@type\":\"UnitPriceSpecification\",\"price\":80000,\"priceCurrency\":\"AED\",\"unitText\":\"yearly\"}}]}},{\"@type\":\"Offer\",\"itemOffered\":{\"@type\":[\"Apartment\",\"Product\"],\"name\":\"Spacious 3 Br+Maid with Balcony & Parking\",\"image\":\"https://images.bayut.com/thumbnails/512202266-400x300.jpeg\",\"url\":\"https://www.bayut.com/property/details-8111407.html\",\"address\":{\"@type\":\"PostalAddress\",\"name\":\"Sheikh Khalifa Bin Zayed Street Abu Dhabi\"},\"floorSize\":{\"@type\":\"QuantitativeValue\",\"value\":\"1,820\",\"unitText\":\"SQFT\"},\"offers\":[{\"@type\":\"Offer\",\"priceCurrency\":\"AED\",\"url\":\"https://www.bayut.com/property/details-8111407.html\",\"businessFunction\":\"http://purl.org/goodrelations/v1#LeaseOut\",\"priceSpecification\":{\"@type\":\"UnitPriceSpecification\",\"price\":99999,\"priceCurrency\":\"AED\",\"unitText\":\"yearly\"}}]}},{\"@type\":\"Offer\",\"itemOffered\":{\"@type\":[\"Apartment\",\"Product\"],\"name\":\"Stunning 3BR+M| Flexible Payments| Book Now⚡\",\"image\":\"https://images.bayut.com/thumbnails/510050340-400x300.jpeg\",\"url\":\"https://www.bayut.com/property/details-8101244.html\",\"address\":{\"@type\":\"PostalAddress\",\"name\":\"Al Wathba Tower Al Markaziya Abu Dhabi\"},\"floorSize\":{\"@type\":\"QuantitativeValue\",\"value\":\"2,555\",\"unitText\":\"SQFT\"},\"offers\":[{\"@type\":\"Offer\",\"priceCurrency\":\"AED\",\"url\":\"https://www.bayut.com/property/details-8101244.html\",\"businessFunction\":\"http://purl.org/goodrelations/v1#LeaseOut\",\"priceSpecification\":{\"@type\":\"UnitPriceSpecification\",\"price\":69000,\"priceCurrency\":\"AED\",\"unitText\":\"yearly\"}}]}}]}']"
      ]
     },
     "execution_count": 30,
     "metadata": {},
     "output_type": "execute_result"
    }
   ],
   "source": [
    "aafaq_agent_soup.find('script').contents"
   ]
  },
  {
   "cell_type": "code",
   "execution_count": 36,
   "id": "fa92de0d-bdb4-4111-bc3b-f0e1050f096c",
   "metadata": {},
   "outputs": [
    {
     "data": {
      "text/plain": [
       "'{\"@context\":\"https://schema.org\",\"@type\":\"RealEstateAgent\",\"name\":\"Aafaq\",\"image\":\"https://bayut-production.s3.eu-central-1.amazonaws.com/image/505844090/3eb4a49987c04118bd4353850a5c2f73\",\"url\":\"https://www.bayut.com/brokers/aafaq-2188426.html\",\"address\":{\"@type\":\"PostalAddress\",\"addressRegion\":\"Abu Dhabi\"},\"parentOrganization\":{\"@type\":\"Organization\",\"name\":\"Oxygen Property Management\",\"url\":\"https://www.bayut.com/companies/oxygen-property-management-102662/\",\"address\":{\"@type\":\"PostalAddress\",\"addressRegion\":\"Abu Dhabi\"}},\"priceRange\":\"41999 AED - 110000 AED\",\"makesOffer\":[{\"@type\":\"Offer\",\"itemOffered\":{\"@type\":[\"Apartment\",\"Product\"],\"name\":\"Huge 3 BD / Duplex /City View/Khalifa Street\",\"image\":\"https://images.bayut.com/thumbnails/512139006-400x300.jpeg\",\"url\":\"https://www.bayut.com/property/details-8111008.html\",\"address\":{\"@type\":\"PostalAddress\",\"name\":\"Sheikh Khalifa Bin Zayed Street Abu Dhabi\"},\"floorSize\":{\"@type\":\"QuantitativeValue\",\"value\":\"2,410\",\"unitText\":\"SQFT\"},\"offers\":[{\"@type\":\"Offer\",\"priceCurrency\":\"AED\",\"url\":\"https://www.bayut.com/property/details-8111008.html\",\"businessFunction\":\"http://purl.org/goodrelations/v1#LeaseOut\",\"priceSpecification\":{\"@type\":\"UnitPriceSpecification\",\"price\":110000,\"priceCurrency\":\"AED\",\"unitText\":\"yearly\"}}]}},{\"@type\":\"Offer\",\"itemOffered\":{\"@type\":[\"Apartment\",\"Product\"],\"name\":\"Huge 3bhk /Maids room /Wardrobes /All Facilities\",\"image\":\"https://images.bayut.com/thumbnails/509965587-400x300.jpeg\",\"url\":\"https://www.bayut.com/property/details-8100746.html\",\"address\":{\"@type\":\"PostalAddress\",\"name\":\"Al Salam Street Abu Dhabi\"},\"floorSize\":{\"@type\":\"QuantitativeValue\",\"value\":\"1,825\",\"unitText\":\"SQFT\"},\"offers\":[{\"@type\":\"Offer\",\"priceCurrency\":\"AED\",\"url\":\"https://www.bayut.com/property/details-8100746.html\",\"businessFunction\":\"http://purl.org/goodrelations/v1#LeaseOut\",\"priceSpecification\":{\"@type\":\"UnitPriceSpecification\",\"price\":82500,\"priceCurrency\":\"AED\",\"unitText\":\"yearly\"}}]}},{\"@type\":\"Offer\",\"itemOffered\":{\"@type\":[\"Apartment\",\"Product\"],\"name\":\"Great Amenities  Studio | Amazing View\",\"image\":\"https://images.bayut.com/thumbnails/512105240-400x300.jpeg\",\"url\":\"https://www.bayut.com/property/details-8110803.html\",\"address\":{\"@type\":\"PostalAddress\",\"name\":\"Sama Tower Electra Street Abu Dhabi\"},\"floorSize\":{\"@type\":\"QuantitativeValue\",\"value\":\"645\",\"unitText\":\"SQFT\"},\"offers\":[{\"@type\":\"Offer\",\"priceCurrency\":\"AED\",\"url\":\"https://www.bayut.com/property/details-8110803.html\",\"businessFunction\":\"http://purl.org/goodrelations/v1#LeaseOut\",\"priceSpecification\":{\"@type\":\"UnitPriceSpecification\",\"price\":41999,\"priceCurrency\":\"AED\",\"unitText\":\"yearly\"}}]}},{\"@type\":\"Offer\",\"itemOffered\":{\"@type\":[\"Apartment\",\"Product\"],\"name\":\"2 Bedroom | Good View | All Facilities | Best Location\",\"image\":\"https://images.bayut.com/thumbnails/511074969-400x300.jpeg\",\"url\":\"https://www.bayut.com/property/details-8106443.html\",\"address\":{\"@type\":\"PostalAddress\",\"name\":\"Corniche Road Abu Dhabi\"},\"floorSize\":{\"@type\":\"QuantitativeValue\",\"value\":\"1,510\",\"unitText\":\"SQFT\"},\"offers\":[{\"@type\":\"Offer\",\"priceCurrency\":\"AED\",\"url\":\"https://www.bayut.com/property/details-8106443.html\",\"businessFunction\":\"http://purl.org/goodrelations/v1#LeaseOut\",\"priceSpecification\":{\"@type\":\"UnitPriceSpecification\",\"price\":92000,\"priceCurrency\":\"AED\",\"unitText\":\"yearly\"}}]}},{\"@type\":\"Offer\",\"itemOffered\":{\"@type\":[\"Apartment\",\"Product\"],\"name\":\"FULLY FURNISHED 1BR W/ SPACIOUS | GREAT VIEW\",\"image\":\"https://images.bayut.com/thumbnails/507295945-400x300.jpeg\",\"url\":\"https://www.bayut.com/property/details-8087401.html\",\"address\":{\"@type\":\"PostalAddress\",\"name\":\"Zakher MAAM Residence Al Najda Street Abu Dhabi\"},\"floorSize\":{\"@type\":\"QuantitativeValue\",\"value\":\"910\",\"unitText\":\"SQFT\"},\"offers\":[{\"@type\":\"Offer\",\"priceCurrency\":\"AED\",\"url\":\"https://www.bayut.com/property/details-8087401.html\",\"businessFunction\":\"http://purl.org/goodrelations/v1#LeaseOut\",\"priceSpecification\":{\"@type\":\"UnitPriceSpecification\",\"price\":75000,\"priceCurrency\":\"AED\",\"unitText\":\"yearly\"}}]}},{\"@type\":\"Offer\",\"itemOffered\":{\"@type\":[\"Apartment\",\"Product\"],\"name\":\"Partial Sea View | Prime Location | Move In Ready\",\"image\":\"https://images.bayut.com/thumbnails/511235759-400x300.jpeg\",\"url\":\"https://www.bayut.com/property/details-8107258.html\",\"address\":{\"@type\":\"PostalAddress\",\"name\":\"Corniche Road Abu Dhabi\"},\"floorSize\":{\"@type\":\"QuantitativeValue\",\"value\":\"1,035\",\"unitText\":\"SQFT\"},\"offers\":[{\"@type\":\"Offer\",\"priceCurrency\":\"AED\",\"url\":\"https://www.bayut.com/property/details-8107258.html\",\"businessFunction\":\"http://purl.org/goodrelations/v1#LeaseOut\",\"priceSpecification\":{\"@type\":\"UnitPriceSpecification\",\"price\":70000,\"priceCurrency\":\"AED\",\"unitText\":\"yearly\"}}]}},{\"@type\":\"Offer\",\"itemOffered\":{\"@type\":[\"Apartment\",\"Product\"],\"name\":\"Momentous 3BHK+Maid | Laundry | Prime Location\",\"image\":\"https://images.bayut.com/thumbnails/511981044-400x300.jpeg\",\"url\":\"https://www.bayut.com/property/details-8110048.html\",\"address\":{\"@type\":\"PostalAddress\",\"name\":\"Corniche Road Abu Dhabi\"},\"floorSize\":{\"@type\":\"QuantitativeValue\",\"value\":\"1,810\",\"unitText\":\"SQFT\"},\"offers\":[{\"@type\":\"Offer\",\"priceCurrency\":\"AED\",\"url\":\"https://www.bayut.com/property/details-8110048.html\",\"businessFunction\":\"http://purl.org/goodrelations/v1#LeaseOut\",\"priceSpecification\":{\"@type\":\"UnitPriceSpecification\",\"price\":105000,\"priceCurrency\":\"AED\",\"unitText\":\"yearly\"}}]}},{\"@type\":\"Offer\",\"itemOffered\":{\"@type\":[\"Apartment\",\"Product\"],\"name\":\"Amazing | 1bhk | Wardrobes |Grand Classic\",\"image\":\"https://images.bayut.com/thumbnails/511990201-400x300.jpeg\",\"url\":\"https://www.bayut.com/property/details-8110103.html\",\"address\":{\"@type\":\"PostalAddress\",\"name\":\"Airport Street Abu Dhabi\"},\"floorSize\":{\"@type\":\"QuantitativeValue\",\"value\":\"910\",\"unitText\":\"SQFT\"},\"offers\":[{\"@type\":\"Offer\",\"priceCurrency\":\"AED\",\"url\":\"https://www.bayut.com/property/details-8110103.html\",\"businessFunction\":\"http://purl.org/goodrelations/v1#LeaseOut\",\"priceSpecification\":{\"@type\":\"UnitPriceSpecification\",\"price\":50000,\"priceCurrency\":\"AED\",\"unitText\":\"yearly\"}}]}},{\"@type\":\"Offer\",\"itemOffered\":{\"@type\":[\"Apartment\",\"Product\"],\"name\":\"2 Months free/ Spacious 3BHK/City View\",\"image\":\"https://images.bayut.com/thumbnails/511410644-400x300.jpeg\",\"url\":\"https://www.bayut.com/property/details-8108065.html\",\"address\":{\"@type\":\"PostalAddress\",\"name\":\"World Trade Centre Al Markaziya Abu Dhabi\"},\"floorSize\":{\"@type\":\"QuantitativeValue\",\"value\":\"1,410\",\"unitText\":\"SQFT\"},\"offers\":[{\"@type\":\"Offer\",\"priceCurrency\":\"AED\",\"url\":\"https://www.bayut.com/property/details-8108065.html\",\"businessFunction\":\"http://purl.org/goodrelations/v1#LeaseOut\",\"priceSpecification\":{\"@type\":\"UnitPriceSpecification\",\"price\":72000,\"priceCurrency\":\"AED\",\"unitText\":\"yearly\"}}]}},{\"@type\":\"Offer\",\"itemOffered\":{\"@type\":[\"Apartment\",\"Product\"],\"name\":\"2BHK /Family Oriented /Furnished / Balcony\",\"image\":\"https://images.bayut.com/thumbnails/512035367-400x300.jpeg\",\"url\":\"https://www.bayut.com/property/details-8110386.html\",\"address\":{\"@type\":\"PostalAddress\",\"name\":\"Sheikh Khalifa Bin Zayed Street Abu Dhabi\"},\"floorSize\":{\"@type\":\"QuantitativeValue\",\"value\":\"1,225\",\"unitText\":\"SQFT\"},\"offers\":[{\"@type\":\"Offer\",\"priceCurrency\":\"AED\",\"url\":\"https://www.bayut.com/property/details-8110386.html\",\"businessFunction\":\"http://purl.org/goodrelations/v1#LeaseOut\",\"priceSpecification\":{\"@type\":\"UnitPriceSpecification\",\"price\":80000,\"priceCurrency\":\"AED\",\"unitText\":\"yearly\"}}]}},{\"@type\":\"Offer\",\"itemOffered\":{\"@type\":[\"Apartment\",\"Product\"],\"name\":\"Spacious 3 Br+Maid with Balcony & Parking\",\"image\":\"https://images.bayut.com/thumbnails/512202266-400x300.jpeg\",\"url\":\"https://www.bayut.com/property/details-8111407.html\",\"address\":{\"@type\":\"PostalAddress\",\"name\":\"Sheikh Khalifa Bin Zayed Street Abu Dhabi\"},\"floorSize\":{\"@type\":\"QuantitativeValue\",\"value\":\"1,820\",\"unitText\":\"SQFT\"},\"offers\":[{\"@type\":\"Offer\",\"priceCurrency\":\"AED\",\"url\":\"https://www.bayut.com/property/details-8111407.html\",\"businessFunction\":\"http://purl.org/goodrelations/v1#LeaseOut\",\"priceSpecification\":{\"@type\":\"UnitPriceSpecification\",\"price\":99999,\"priceCurrency\":\"AED\",\"unitText\":\"yearly\"}}]}},{\"@type\":\"Offer\",\"itemOffered\":{\"@type\":[\"Apartment\",\"Product\"],\"name\":\"Stunning 3BR+M| Flexible Payments| Book Now⚡\",\"image\":\"https://images.bayut.com/thumbnails/510050340-400x300.jpeg\",\"url\":\"https://www.bayut.com/property/details-8101244.html\",\"address\":{\"@type\":\"PostalAddress\",\"name\":\"Al Wathba Tower Al Markaziya Abu Dhabi\"},\"floorSize\":{\"@type\":\"QuantitativeValue\",\"value\":\"2,555\",\"unitText\":\"SQFT\"},\"offers\":[{\"@type\":\"Offer\",\"priceCurrency\":\"AED\",\"url\":\"https://www.bayut.com/property/details-8101244.html\",\"businessFunction\":\"http://purl.org/goodrelations/v1#LeaseOut\",\"priceSpecification\":{\"@type\":\"UnitPriceSpecification\",\"price\":69000,\"priceCurrency\":\"AED\",\"unitText\":\"yearly\"}}]}}]}'"
      ]
     },
     "execution_count": 36,
     "metadata": {},
     "output_type": "execute_result"
    }
   ],
   "source": [
    "aafaq_agent_script_text = aafaq_agent_soup.select_one('script').contents[0]\n",
    "aafaq_agent_script_text"
   ]
  },
  {
   "cell_type": "code",
   "execution_count": 37,
   "id": "d8677130-58a6-45c3-8afc-e97cae0b06ff",
   "metadata": {},
   "outputs": [],
   "source": [
    "data = json.loads(aafaq_agent_script_text)"
   ]
  },
  {
   "cell_type": "code",
   "execution_count": 43,
   "id": "1ffcc9dd-82db-4305-beb6-a70d67666ae2",
   "metadata": {},
   "outputs": [
    {
     "data": {
      "text/plain": [
       "{'@context': 'https://schema.org',\n",
       " '@type': 'RealEstateAgent',\n",
       " 'name': 'Aafaq',\n",
       " 'image': 'https://bayut-production.s3.eu-central-1.amazonaws.com/image/505844090/3eb4a49987c04118bd4353850a5c2f73',\n",
       " 'url': 'https://www.bayut.com/brokers/aafaq-2188426.html',\n",
       " 'address': {'@type': 'PostalAddress', 'addressRegion': 'Abu Dhabi'},\n",
       " 'parentOrganization': {'@type': 'Organization',\n",
       "  'name': 'Oxygen Property Management',\n",
       "  'url': 'https://www.bayut.com/companies/oxygen-property-management-102662/',\n",
       "  'address': {'@type': 'PostalAddress', 'addressRegion': 'Abu Dhabi'}},\n",
       " 'priceRange': '41999 AED - 110000 AED',\n",
       " 'makesOffer': [{'@type': 'Offer',\n",
       "   'itemOffered': {'@type': ['Apartment', 'Product'],\n",
       "    'name': 'Huge 3 BD / Duplex /City View/Khalifa Street',\n",
       "    'image': 'https://images.bayut.com/thumbnails/512139006-400x300.jpeg',\n",
       "    'url': 'https://www.bayut.com/property/details-8111008.html',\n",
       "    'address': {'@type': 'PostalAddress',\n",
       "     'name': 'Sheikh Khalifa Bin Zayed Street Abu Dhabi'},\n",
       "    'floorSize': {'@type': 'QuantitativeValue',\n",
       "     'value': '2,410',\n",
       "     'unitText': 'SQFT'},\n",
       "    'offers': [{'@type': 'Offer',\n",
       "      'priceCurrency': 'AED',\n",
       "      'url': 'https://www.bayut.com/property/details-8111008.html',\n",
       "      'businessFunction': 'http://purl.org/goodrelations/v1#LeaseOut',\n",
       "      'priceSpecification': {'@type': 'UnitPriceSpecification',\n",
       "       'price': 110000,\n",
       "       'priceCurrency': 'AED',\n",
       "       'unitText': 'yearly'}}]}},\n",
       "  {'@type': 'Offer',\n",
       "   'itemOffered': {'@type': ['Apartment', 'Product'],\n",
       "    'name': 'Huge 3bhk /Maids room /Wardrobes /All Facilities',\n",
       "    'image': 'https://images.bayut.com/thumbnails/509965587-400x300.jpeg',\n",
       "    'url': 'https://www.bayut.com/property/details-8100746.html',\n",
       "    'address': {'@type': 'PostalAddress', 'name': 'Al Salam Street Abu Dhabi'},\n",
       "    'floorSize': {'@type': 'QuantitativeValue',\n",
       "     'value': '1,825',\n",
       "     'unitText': 'SQFT'},\n",
       "    'offers': [{'@type': 'Offer',\n",
       "      'priceCurrency': 'AED',\n",
       "      'url': 'https://www.bayut.com/property/details-8100746.html',\n",
       "      'businessFunction': 'http://purl.org/goodrelations/v1#LeaseOut',\n",
       "      'priceSpecification': {'@type': 'UnitPriceSpecification',\n",
       "       'price': 82500,\n",
       "       'priceCurrency': 'AED',\n",
       "       'unitText': 'yearly'}}]}},\n",
       "  {'@type': 'Offer',\n",
       "   'itemOffered': {'@type': ['Apartment', 'Product'],\n",
       "    'name': 'Great Amenities  Studio | Amazing View',\n",
       "    'image': 'https://images.bayut.com/thumbnails/512105240-400x300.jpeg',\n",
       "    'url': 'https://www.bayut.com/property/details-8110803.html',\n",
       "    'address': {'@type': 'PostalAddress',\n",
       "     'name': 'Sama Tower Electra Street Abu Dhabi'},\n",
       "    'floorSize': {'@type': 'QuantitativeValue',\n",
       "     'value': '645',\n",
       "     'unitText': 'SQFT'},\n",
       "    'offers': [{'@type': 'Offer',\n",
       "      'priceCurrency': 'AED',\n",
       "      'url': 'https://www.bayut.com/property/details-8110803.html',\n",
       "      'businessFunction': 'http://purl.org/goodrelations/v1#LeaseOut',\n",
       "      'priceSpecification': {'@type': 'UnitPriceSpecification',\n",
       "       'price': 41999,\n",
       "       'priceCurrency': 'AED',\n",
       "       'unitText': 'yearly'}}]}},\n",
       "  {'@type': 'Offer',\n",
       "   'itemOffered': {'@type': ['Apartment', 'Product'],\n",
       "    'name': '2 Bedroom | Good View | All Facilities | Best Location',\n",
       "    'image': 'https://images.bayut.com/thumbnails/511074969-400x300.jpeg',\n",
       "    'url': 'https://www.bayut.com/property/details-8106443.html',\n",
       "    'address': {'@type': 'PostalAddress', 'name': 'Corniche Road Abu Dhabi'},\n",
       "    'floorSize': {'@type': 'QuantitativeValue',\n",
       "     'value': '1,510',\n",
       "     'unitText': 'SQFT'},\n",
       "    'offers': [{'@type': 'Offer',\n",
       "      'priceCurrency': 'AED',\n",
       "      'url': 'https://www.bayut.com/property/details-8106443.html',\n",
       "      'businessFunction': 'http://purl.org/goodrelations/v1#LeaseOut',\n",
       "      'priceSpecification': {'@type': 'UnitPriceSpecification',\n",
       "       'price': 92000,\n",
       "       'priceCurrency': 'AED',\n",
       "       'unitText': 'yearly'}}]}},\n",
       "  {'@type': 'Offer',\n",
       "   'itemOffered': {'@type': ['Apartment', 'Product'],\n",
       "    'name': 'FULLY FURNISHED 1BR W/ SPACIOUS | GREAT VIEW',\n",
       "    'image': 'https://images.bayut.com/thumbnails/507295945-400x300.jpeg',\n",
       "    'url': 'https://www.bayut.com/property/details-8087401.html',\n",
       "    'address': {'@type': 'PostalAddress',\n",
       "     'name': 'Zakher MAAM Residence Al Najda Street Abu Dhabi'},\n",
       "    'floorSize': {'@type': 'QuantitativeValue',\n",
       "     'value': '910',\n",
       "     'unitText': 'SQFT'},\n",
       "    'offers': [{'@type': 'Offer',\n",
       "      'priceCurrency': 'AED',\n",
       "      'url': 'https://www.bayut.com/property/details-8087401.html',\n",
       "      'businessFunction': 'http://purl.org/goodrelations/v1#LeaseOut',\n",
       "      'priceSpecification': {'@type': 'UnitPriceSpecification',\n",
       "       'price': 75000,\n",
       "       'priceCurrency': 'AED',\n",
       "       'unitText': 'yearly'}}]}},\n",
       "  {'@type': 'Offer',\n",
       "   'itemOffered': {'@type': ['Apartment', 'Product'],\n",
       "    'name': 'Partial Sea View | Prime Location | Move In Ready',\n",
       "    'image': 'https://images.bayut.com/thumbnails/511235759-400x300.jpeg',\n",
       "    'url': 'https://www.bayut.com/property/details-8107258.html',\n",
       "    'address': {'@type': 'PostalAddress', 'name': 'Corniche Road Abu Dhabi'},\n",
       "    'floorSize': {'@type': 'QuantitativeValue',\n",
       "     'value': '1,035',\n",
       "     'unitText': 'SQFT'},\n",
       "    'offers': [{'@type': 'Offer',\n",
       "      'priceCurrency': 'AED',\n",
       "      'url': 'https://www.bayut.com/property/details-8107258.html',\n",
       "      'businessFunction': 'http://purl.org/goodrelations/v1#LeaseOut',\n",
       "      'priceSpecification': {'@type': 'UnitPriceSpecification',\n",
       "       'price': 70000,\n",
       "       'priceCurrency': 'AED',\n",
       "       'unitText': 'yearly'}}]}},\n",
       "  {'@type': 'Offer',\n",
       "   'itemOffered': {'@type': ['Apartment', 'Product'],\n",
       "    'name': 'Momentous 3BHK+Maid | Laundry | Prime Location',\n",
       "    'image': 'https://images.bayut.com/thumbnails/511981044-400x300.jpeg',\n",
       "    'url': 'https://www.bayut.com/property/details-8110048.html',\n",
       "    'address': {'@type': 'PostalAddress', 'name': 'Corniche Road Abu Dhabi'},\n",
       "    'floorSize': {'@type': 'QuantitativeValue',\n",
       "     'value': '1,810',\n",
       "     'unitText': 'SQFT'},\n",
       "    'offers': [{'@type': 'Offer',\n",
       "      'priceCurrency': 'AED',\n",
       "      'url': 'https://www.bayut.com/property/details-8110048.html',\n",
       "      'businessFunction': 'http://purl.org/goodrelations/v1#LeaseOut',\n",
       "      'priceSpecification': {'@type': 'UnitPriceSpecification',\n",
       "       'price': 105000,\n",
       "       'priceCurrency': 'AED',\n",
       "       'unitText': 'yearly'}}]}},\n",
       "  {'@type': 'Offer',\n",
       "   'itemOffered': {'@type': ['Apartment', 'Product'],\n",
       "    'name': 'Amazing | 1bhk | Wardrobes |Grand Classic',\n",
       "    'image': 'https://images.bayut.com/thumbnails/511990201-400x300.jpeg',\n",
       "    'url': 'https://www.bayut.com/property/details-8110103.html',\n",
       "    'address': {'@type': 'PostalAddress', 'name': 'Airport Street Abu Dhabi'},\n",
       "    'floorSize': {'@type': 'QuantitativeValue',\n",
       "     'value': '910',\n",
       "     'unitText': 'SQFT'},\n",
       "    'offers': [{'@type': 'Offer',\n",
       "      'priceCurrency': 'AED',\n",
       "      'url': 'https://www.bayut.com/property/details-8110103.html',\n",
       "      'businessFunction': 'http://purl.org/goodrelations/v1#LeaseOut',\n",
       "      'priceSpecification': {'@type': 'UnitPriceSpecification',\n",
       "       'price': 50000,\n",
       "       'priceCurrency': 'AED',\n",
       "       'unitText': 'yearly'}}]}},\n",
       "  {'@type': 'Offer',\n",
       "   'itemOffered': {'@type': ['Apartment', 'Product'],\n",
       "    'name': '2 Months free/ Spacious 3BHK/City View',\n",
       "    'image': 'https://images.bayut.com/thumbnails/511410644-400x300.jpeg',\n",
       "    'url': 'https://www.bayut.com/property/details-8108065.html',\n",
       "    'address': {'@type': 'PostalAddress',\n",
       "     'name': 'World Trade Centre Al Markaziya Abu Dhabi'},\n",
       "    'floorSize': {'@type': 'QuantitativeValue',\n",
       "     'value': '1,410',\n",
       "     'unitText': 'SQFT'},\n",
       "    'offers': [{'@type': 'Offer',\n",
       "      'priceCurrency': 'AED',\n",
       "      'url': 'https://www.bayut.com/property/details-8108065.html',\n",
       "      'businessFunction': 'http://purl.org/goodrelations/v1#LeaseOut',\n",
       "      'priceSpecification': {'@type': 'UnitPriceSpecification',\n",
       "       'price': 72000,\n",
       "       'priceCurrency': 'AED',\n",
       "       'unitText': 'yearly'}}]}},\n",
       "  {'@type': 'Offer',\n",
       "   'itemOffered': {'@type': ['Apartment', 'Product'],\n",
       "    'name': '2BHK /Family Oriented /Furnished / Balcony',\n",
       "    'image': 'https://images.bayut.com/thumbnails/512035367-400x300.jpeg',\n",
       "    'url': 'https://www.bayut.com/property/details-8110386.html',\n",
       "    'address': {'@type': 'PostalAddress',\n",
       "     'name': 'Sheikh Khalifa Bin Zayed Street Abu Dhabi'},\n",
       "    'floorSize': {'@type': 'QuantitativeValue',\n",
       "     'value': '1,225',\n",
       "     'unitText': 'SQFT'},\n",
       "    'offers': [{'@type': 'Offer',\n",
       "      'priceCurrency': 'AED',\n",
       "      'url': 'https://www.bayut.com/property/details-8110386.html',\n",
       "      'businessFunction': 'http://purl.org/goodrelations/v1#LeaseOut',\n",
       "      'priceSpecification': {'@type': 'UnitPriceSpecification',\n",
       "       'price': 80000,\n",
       "       'priceCurrency': 'AED',\n",
       "       'unitText': 'yearly'}}]}},\n",
       "  {'@type': 'Offer',\n",
       "   'itemOffered': {'@type': ['Apartment', 'Product'],\n",
       "    'name': 'Spacious 3 Br+Maid with Balcony & Parking',\n",
       "    'image': 'https://images.bayut.com/thumbnails/512202266-400x300.jpeg',\n",
       "    'url': 'https://www.bayut.com/property/details-8111407.html',\n",
       "    'address': {'@type': 'PostalAddress',\n",
       "     'name': 'Sheikh Khalifa Bin Zayed Street Abu Dhabi'},\n",
       "    'floorSize': {'@type': 'QuantitativeValue',\n",
       "     'value': '1,820',\n",
       "     'unitText': 'SQFT'},\n",
       "    'offers': [{'@type': 'Offer',\n",
       "      'priceCurrency': 'AED',\n",
       "      'url': 'https://www.bayut.com/property/details-8111407.html',\n",
       "      'businessFunction': 'http://purl.org/goodrelations/v1#LeaseOut',\n",
       "      'priceSpecification': {'@type': 'UnitPriceSpecification',\n",
       "       'price': 99999,\n",
       "       'priceCurrency': 'AED',\n",
       "       'unitText': 'yearly'}}]}},\n",
       "  {'@type': 'Offer',\n",
       "   'itemOffered': {'@type': ['Apartment', 'Product'],\n",
       "    'name': 'Stunning 3BR+M| Flexible Payments| Book Now⚡',\n",
       "    'image': 'https://images.bayut.com/thumbnails/510050340-400x300.jpeg',\n",
       "    'url': 'https://www.bayut.com/property/details-8101244.html',\n",
       "    'address': {'@type': 'PostalAddress',\n",
       "     'name': 'Al Wathba Tower Al Markaziya Abu Dhabi'},\n",
       "    'floorSize': {'@type': 'QuantitativeValue',\n",
       "     'value': '2,555',\n",
       "     'unitText': 'SQFT'},\n",
       "    'offers': [{'@type': 'Offer',\n",
       "      'priceCurrency': 'AED',\n",
       "      'url': 'https://www.bayut.com/property/details-8101244.html',\n",
       "      'businessFunction': 'http://purl.org/goodrelations/v1#LeaseOut',\n",
       "      'priceSpecification': {'@type': 'UnitPriceSpecification',\n",
       "       'price': 69000,\n",
       "       'priceCurrency': 'AED',\n",
       "       'unitText': 'yearly'}}]}}]}"
      ]
     },
     "execution_count": 43,
     "metadata": {},
     "output_type": "execute_result"
    }
   ],
   "source": [
    "data"
   ]
  },
  {
   "cell_type": "code",
   "execution_count": null,
   "id": "0c349fe6-ca87-48fc-8329-6e4aadfb8285",
   "metadata": {},
   "outputs": [],
   "source": [
    "master_data = pd.read_excel(\"../Downloads/Master Data Sheet.xlsx\", sheet_name=['Tower (Residential)'])"
   ]
  },
  {
   "cell_type": "code",
   "execution_count": null,
   "id": "db84d0da-60d9-4a0d-8f49-5db0efc2f0cb",
   "metadata": {},
   "outputs": [],
   "source": [
    "master_data['Tower (Residential)']['Gps Location 1'].values"
   ]
  },
  {
   "cell_type": "code",
   "execution_count": null,
   "id": "7a696495-e5b2-49a2-b78e-e1a8f572b3e9",
   "metadata": {},
   "outputs": [],
   "source": []
  }
 ],
 "metadata": {
  "kernelspec": {
   "display_name": "Python 3",
   "language": "python",
   "name": "python3"
  },
  "language_info": {
   "codemirror_mode": {
    "name": "ipython",
    "version": 3
   },
   "file_extension": ".py",
   "mimetype": "text/x-python",
   "name": "python",
   "nbconvert_exporter": "python",
   "pygments_lexer": "ipython3",
   "version": "3.8.5"
  }
 },
 "nbformat": 4,
 "nbformat_minor": 5
}
